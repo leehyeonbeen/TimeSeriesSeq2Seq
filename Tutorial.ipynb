{
 "cells": [
  {
   "cell_type": "markdown",
   "metadata": {},
   "source": [
    "# Imports"
   ]
  },
  {
   "cell_type": "code",
   "execution_count": 1,
   "metadata": {},
   "outputs": [],
   "source": [
    "import torch\n",
    "import torch.nn as nn\n",
    "from architecture.seq2seq import LSTMSeq2Seq, AttentionLSTMSeq2Seq, TransformerSeq2Seq"
   ]
  },
  {
   "cell_type": "markdown",
   "metadata": {},
   "source": [
    "# Configuration\n",
    "Supports $(B,L_{in},C_{in})\\xrightarrow{network}(B,L_{out},C_{out})$ operations, where  \n",
    "$\\begin{aligned}\n",
    "B&=\\text{batch\\_size}\\\\\n",
    "L_{in}&=\\text{input\\_sequence\\_length (variable)}\\\\\n",
    "C_{in}&=\\text{input\\_embedding\\_size}\\\\\n",
    "L_{out}&=\\text{output\\_sequence\\_length (variable)}\\\\\n",
    "C_{out}&=\\text{output\\_embedding\\_size}\\\\\n",
    "\\end{aligned}$  \n",
    "- ```hidden_size``` Hidden state size of LSTM encoder. Equivalent to ```d_model``` in ```TransformerSeq2Seq```  \n",
    "- ```num_layers``` Number of LSTM and Transformer encoder, decoder layers.\n",
    "- ```bidirectional``` Whether to use bidirectional LSTM encoder.  \n",
    "- ```dropout``` Dropout rate. Applies to:  \n",
    "  - Residual drop path in 1DCNN in ```architecture.cnn```  \n",
    "  - Hidden state dropout in LSTM encoder/decoder(for every time step). Unlike ```torch.nn.LSTM```, dropout is applied from the first LSTM layer.  \n",
    "  - The same dropout as Vanilla Transformer from Vaswani et al..\n",
    "- ```layernorm``` Layer normalization in LSTM encoder and decoder.  \n",
    "\n",
    "All network parameters are random-initialized from $\\mathcal{N}\\sim(0,0.01^2)$, except for all bias with ```torch.zeros``` and normalization layer weights with ```torch.ones```. See ```architectures.init```\n"
   ]
  },
  {
   "cell_type": "code",
   "execution_count": 2,
   "metadata": {},
   "outputs": [],
   "source": [
    "batch_size = 32\n",
    "length_x = 40  # input sequence length\n",
    "length_y = 60  # output label sequence length\n",
    "input_size = 27  # input feature size\n",
    "output_size = 6  # output feature size\n",
    "hidden_size = 128  # hidden state size of LSTM encoder. Equivalent to d_model in TransformerSeq2Seq\n",
    "dropout = 0.1  # dropout rate\n",
    "num_layers = 3  # number of LSTM and Transformer encoder, decoder layers\n",
    "bidirectional = True  # Whether to use bidirectional LSTM encoder\n",
    "layernorm = True  # Layer normalization in LSTM encoder and decoder"
   ]
  },
  {
   "cell_type": "markdown",
   "metadata": {},
   "source": [
    "# Create dummy input/output"
   ]
  },
  {
   "cell_type": "code",
   "execution_count": 3,
   "metadata": {},
   "outputs": [],
   "source": [
    "x = torch.randn(batch_size, length_x, input_size)\n",
    "y = torch.randn(batch_size, length_y, output_size)"
   ]
  },
  {
   "cell_type": "markdown",
   "metadata": {},
   "source": [
    "# Forward operation\n",
    "- ```x``` Input to the network. Supports $(B,L_{in},C_{in})$ only.  \n",
    "- ```teacher_forcing``` Teacher forcing ratio $\\in [0,1]$. Defaults to -1 (fully autoregressive).  \n",
    "- ```y``` Output label for teacher forcing. Supports $(B,*,C_{out})$ only. Defaults to ```None``` (fully autoregressive).  \n",
    "- ```trg_len``` Target sequence length to generate. Defaults to ```1```."
   ]
  },
  {
   "cell_type": "markdown",
   "metadata": {},
   "source": [
    "### LSTM Encoder-Decoder"
   ]
  },
  {
   "cell_type": "code",
   "execution_count": 4,
   "metadata": {},
   "outputs": [
    {
     "name": "stdout",
     "output_type": "stream",
     "text": [
      "torch.Size([32, 100, 6]) torch.Size([32, 60, 6])\n"
     ]
    }
   ],
   "source": [
    "model = LSTMSeq2Seq(\n",
    "    input_size=input_size,\n",
    "    output_size=output_size,\n",
    "    hidden_size=hidden_size,\n",
    "    num_layers=num_layers,\n",
    "    bidirectional=bidirectional,\n",
    "    dropout=dropout,\n",
    ")\n",
    "out_1 = model.forward_auto(x, 100)\n",
    "out_2 = model.forward_labeled(x, y)\n",
    "print(out_1.shape, out_2.shape)"
   ]
  },
  {
   "cell_type": "markdown",
   "metadata": {},
   "source": [
    "### LSTM Encoder-Decoder with Bahdanau style attention"
   ]
  },
  {
   "cell_type": "code",
   "execution_count": 5,
   "metadata": {},
   "outputs": [
    {
     "name": "stdout",
     "output_type": "stream",
     "text": [
      "torch.Size([32, 100, 6]) torch.Size([32, 60, 6])\n"
     ]
    }
   ],
   "source": [
    "model = AttentionLSTMSeq2Seq(\n",
    "    input_size=input_size,\n",
    "    output_size=output_size,\n",
    "    hidden_size=hidden_size,\n",
    "    num_layers=num_layers,\n",
    "    bidirectional=bidirectional,\n",
    "    dropout=dropout,\n",
    ")\n",
    "out_1 = model.forward_auto(x, 100)\n",
    "out_2 = model.forward_labeled(x, y)\n",
    "print(out_1.shape, out_2.shape)"
   ]
  },
  {
   "cell_type": "markdown",
   "metadata": {},
   "source": [
    "### Vanilla Transformer Encoder-Decoder"
   ]
  },
  {
   "cell_type": "code",
   "execution_count": 6,
   "metadata": {},
   "outputs": [
    {
     "name": "stdout",
     "output_type": "stream",
     "text": [
      "torch.Size([32, 100, 6]) torch.Size([32, 60, 6])\n"
     ]
    }
   ],
   "source": [
    "model = TransformerSeq2Seq(\n",
    "    input_size=input_size,\n",
    "    output_size=output_size,\n",
    "    num_layers=num_layers,\n",
    "    d_model=hidden_size,\n",
    "    n_heads=4,\n",
    "    dropout=dropout,\n",
    "    d_ff=hidden_size * 4,\n",
    ")\n",
    "out_1 = model.forward_auto(x, 100)\n",
    "out_2 = model.forward_labeled(x, y)\n",
    "print(out_1.shape, out_2.shape)"
   ]
  },
  {
   "cell_type": "markdown",
   "metadata": {},
   "source": [
    "# Accessing model properties\n",
    "- Parameters can be counted by ```model.count_params()```\n",
    "- Properties are accessed using ```model.model_info``` attribute.  \n",
    "- Another model instance can be created by ```ModelClass(**model.model_init_args)```.  \n",
    "\n",
    "These features are attributed to ```architectures.skeleton.Skeleton``` class."
   ]
  },
  {
   "cell_type": "code",
   "execution_count": 7,
   "metadata": {},
   "outputs": [
    {
     "name": "stdout",
     "output_type": "stream",
     "text": [
      "Number of trainable parameters: 1,393,798\n",
      "{'bidirectional': True, 'd_ff': 512, 'd_model': 128, 'dropout': 0.1, 'hidden_size': 256, 'input_size': 27, 'layernorm': False, 'n_heads': 4, 'num_hl': 0, 'num_layers': 3, 'output_size': 6}\n"
     ]
    }
   ],
   "source": [
    "model.count_params()\n",
    "\n",
    "model_info = model.model_info\n",
    "model_init_args = model.model_init_args\n",
    "print(model_info)\n",
    "\n",
    "another_model_instance = TransformerSeq2Seq(**model_init_args)"
   ]
  }
 ],
 "metadata": {
  "kernelspec": {
   "display_name": "ai",
   "language": "python",
   "name": "python3"
  },
  "language_info": {
   "codemirror_mode": {
    "name": "ipython",
    "version": 3
   },
   "file_extension": ".py",
   "mimetype": "text/x-python",
   "name": "python",
   "nbconvert_exporter": "python",
   "pygments_lexer": "ipython3",
   "version": "3.12.11"
  },
  "orig_nbformat": 4
 },
 "nbformat": 4,
 "nbformat_minor": 2
}
